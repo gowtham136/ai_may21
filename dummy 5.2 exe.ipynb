{
 "cells": [
  {
   "cell_type": "markdown",
   "metadata": {},
   "source": [
    "**Exercise 5.2:** Write and test three functions that return the largest, the smallest, and the number of dividables by 3 in a given collection of numbers. Use the algorithm described earlier in the Part 5 lecture :)"
   ]
  },
  {
   "cell_type": "code",
   "execution_count": 68,
   "metadata": {},
   "outputs": [
    {
     "name": "stdout",
     "output_type": "stream",
     "text": [
      "largest is 100\n",
      "smallest is 2\n",
      "dividables by 3 are  6\n",
      "dividables by 3 are  12\n",
      "dividables by 3 are  15\n",
      "dividables by 3 are  99\n"
     ]
    }
   ],
   "source": [
    "# Your functions\n",
    "def main():\n",
    "    \"\"\"\n",
    "    a = [2, 4, 6, 12, 15, 99, 100]\n",
    "    100\n",
    "    2\n",
    "    4\n",
    "    \"\"\"\n",
    "    a_k = [2, 4, 6, 12, 15, 99, 100]\n",
    "    f= max(a_k)\n",
    "    h= min(a_k)\n",
    "    print (\"largest is\",f)\n",
    "    print(\"smallest is\",h)\n",
    "    for i in a_k:\n",
    "        if i%3 == 0:\n",
    "            print(\"dividables by 3 are \",i)\n",
    "    \n",
    "main()\n"
   ]
  }
 ],
 "metadata": {
  "kernelspec": {
   "display_name": "Python 3",
   "language": "python",
   "name": "python3"
  },
  "language_info": {
   "codemirror_mode": {
    "name": "ipython",
    "version": 3
   },
   "file_extension": ".py",
   "mimetype": "text/x-python",
   "name": "python",
   "nbconvert_exporter": "python",
   "pygments_lexer": "ipython3",
   "version": "3.8.8"
  }
 },
 "nbformat": 4,
 "nbformat_minor": 4
}
